{
 "cells": [
  {
   "cell_type": "code",
   "execution_count": 1,
   "metadata": {},
   "outputs": [],
   "source": [
    "#Import all libraries\n",
    "import quandl\n",
    "import numpy as np \n",
    "from sklearn.linear_model import LinearRegression\n",
    "from sklearn.svm import SVR\n",
    "from sklearn.model_selection import train_test_split"
   ]
  },
  {
   "cell_type": "code",
   "execution_count": 2,
   "metadata": {},
   "outputs": [
    {
     "name": "stdout",
     "output_type": "stream",
     "text": [
      "               Open     High      Low    Close      Volume  Ex-Dividend  \\\n",
      "Date                                                                      \n",
      "2018-02-06  1361.46  1443.99  1351.79  1442.84  10773963.0          0.0   \n",
      "2018-02-07  1449.00  1460.99  1415.15  1416.78   7066828.0          0.0   \n",
      "2018-02-08  1429.67  1433.75  1349.94  1350.47   8108560.0          0.0   \n",
      "2018-02-09  1373.49  1383.50  1265.93  1338.99  13787886.0          0.0   \n",
      "2018-02-12  1364.67  1393.81  1344.01  1386.23   6682214.0          0.0   \n",
      "\n",
      "            Split Ratio  Adj. Open  Adj. High  Adj. Low  Adj. Close  \\\n",
      "Date                                                                  \n",
      "2018-02-06          1.0    1361.46    1443.99   1351.79     1442.84   \n",
      "2018-02-07          1.0    1449.00    1460.99   1415.15     1416.78   \n",
      "2018-02-08          1.0    1429.67    1433.75   1349.94     1350.47   \n",
      "2018-02-09          1.0    1373.49    1383.50   1265.93     1338.99   \n",
      "2018-02-12          1.0    1364.67    1393.81   1344.01     1386.23   \n",
      "\n",
      "            Adj. Volume  \n",
      "Date                     \n",
      "2018-02-06   10773963.0  \n",
      "2018-02-07    7066828.0  \n",
      "2018-02-08    8108560.0  \n",
      "2018-02-09   13787886.0  \n",
      "2018-02-12    6682214.0  \n"
     ]
    }
   ],
   "source": [
    "#Get the stock data\n",
    "df = quandl.get(\"WIKI/AMZN\",start_date=\"1997-12-5\", end_date=\"2018-02-12\")\n",
    "# Take a look at the data\n",
    "print(df.tail())"
   ]
  },
  {
   "cell_type": "code",
   "execution_count": 3,
   "metadata": {},
   "outputs": [
    {
     "name": "stdout",
     "output_type": "stream",
     "text": [
      "            Adj. Close\n",
      "Date                  \n",
      "2018-02-06     1442.84\n",
      "2018-02-07     1416.78\n",
      "2018-02-08     1350.47\n",
      "2018-02-09     1338.99\n",
      "2018-02-12     1386.23\n"
     ]
    }
   ],
   "source": [
    "# Get the Adjusted Close Price\n",
    "df = df[['Adj. Close']]\n",
    "#Take a look at the new data\n",
    "print(df.tail())"
   ]
  },
  {
   "cell_type": "code",
   "execution_count": 4,
   "metadata": {},
   "outputs": [
    {
     "name": "stdout",
     "output_type": "stream",
     "text": [
      "            Adj. Close  Prediction\n",
      "Date                              \n",
      "2018-02-06     1442.84         NaN\n",
      "2018-02-07     1416.78         NaN\n",
      "2018-02-08     1350.47         NaN\n",
      "2018-02-09     1338.99         NaN\n",
      "2018-02-12     1386.23         NaN\n"
     ]
    }
   ],
   "source": [
    "# A variable for predicting 'n' days out into the future\n",
    "future_out = 30 #'n=30' days\n",
    "#Create another column (the target or dependent variable) shifted 'n' units up\n",
    "df['Prediction'] = df[['Adj. Close']].shift(-future_out)\n",
    "#print the new data set\n",
    "print(df.tail())"
   ]
  },
  {
   "cell_type": "code",
   "execution_count": 5,
   "metadata": {},
   "outputs": [
    {
     "name": "stdout",
     "output_type": "stream",
     "text": [
      "[[   4.59416667]\n",
      " [   4.70833333]\n",
      " [   4.6875    ]\n",
      " ...\n",
      " [1176.76      ]\n",
      " [1182.26      ]\n",
      " [1186.1       ]]\n"
     ]
    }
   ],
   "source": [
    "# Create the independent data set X  #\n",
    "# Convert the dataframe to a numpy array\n",
    "X = np.array(df.drop(['Prediction'],1))\n",
    "\n",
    "#Remove the last 'n' rows\n",
    "X = X[:-future_out]\n",
    "print(X)"
   ]
  },
  {
   "cell_type": "code",
   "execution_count": 6,
   "metadata": {},
   "outputs": [
    {
     "name": "stdout",
     "output_type": "stream",
     "text": [
      "[   5.07333333    5.13583333    4.9375     ... 1350.47       1338.99\n",
      " 1386.23      ]\n"
     ]
    }
   ],
   "source": [
    "# Create the dependent data set y  #\n",
    "# Convert the dataframe to a numpy array (All of the values including the NaN's)\n",
    "y = np.array(df['Prediction'])\n",
    "# Get all of the y values except the last 'n' rows\n",
    "y = y[:-future_out]\n",
    "print(y)"
   ]
  },
  {
   "cell_type": "code",
   "execution_count": 7,
   "metadata": {},
   "outputs": [],
   "source": [
    "# Split the data into 80% training and 20% testing\n",
    "x_train, x_test, y_train, y_test = train_test_split(X, y, test_size=0.2)"
   ]
  },
  {
   "cell_type": "code",
   "execution_count": 8,
   "metadata": {},
   "outputs": [
    {
     "data": {
      "text/plain": [
       "SVR(C=1000.0, cache_size=200, coef0=0.0, degree=3, epsilon=0.1, gamma=0.1,\n",
       "  kernel='rbf', max_iter=-1, shrinking=True, tol=0.001, verbose=False)"
      ]
     },
     "execution_count": 8,
     "metadata": {},
     "output_type": "execute_result"
    }
   ],
   "source": [
    "# Create and train the Support Vector Machine (Regressor)\n",
    "svr_rbf = SVR(kernel='rbf', C=1e3, gamma=0.1)\n",
    "svr_rbf.fit(x_train, y_train)"
   ]
  },
  {
   "cell_type": "code",
   "execution_count": 9,
   "metadata": {},
   "outputs": [
    {
     "name": "stdout",
     "output_type": "stream",
     "text": [
      "svm confidence:  0.9817302052003107\n"
     ]
    }
   ],
   "source": [
    "# Testing Model: Score returns the coefficient of determination R^2 of the prediction. \n",
    "# The best possible score is 1.0\n",
    "svm_confidence = svr_rbf.score(x_test, y_test)\n",
    "print(\"svm confidence: \", svm_confidence)"
   ]
  },
  {
   "cell_type": "code",
   "execution_count": 10,
   "metadata": {},
   "outputs": [
    {
     "data": {
      "text/plain": [
       "LinearRegression(copy_X=True, fit_intercept=True, n_jobs=None,\n",
       "         normalize=False)"
      ]
     },
     "execution_count": 10,
     "metadata": {},
     "output_type": "execute_result"
    }
   ],
   "source": [
    "# Create and train the Linear Regression  Model\n",
    "lr = LinearRegression()\n",
    "# Train the model\n",
    "lr.fit(x_train, y_train)"
   ]
  },
  {
   "cell_type": "code",
   "execution_count": 11,
   "metadata": {},
   "outputs": [
    {
     "name": "stdout",
     "output_type": "stream",
     "text": [
      "lr confidence:  0.9892433317901976\n"
     ]
    }
   ],
   "source": [
    "# Testing Model: Score returns the coefficient of determination R^2 of the prediction. \n",
    "# The best possible score is 1.0\n",
    "lr_confidence = lr.score(x_test, y_test)\n",
    "print(\"lr confidence: \", lr_confidence)"
   ]
  },
  {
   "cell_type": "code",
   "execution_count": 12,
   "metadata": {},
   "outputs": [
    {
     "name": "stdout",
     "output_type": "stream",
     "text": [
      "[[1169.47]\n",
      " [1189.01]\n",
      " [1204.2 ]\n",
      " [1209.59]\n",
      " [1229.14]\n",
      " [1246.87]\n",
      " [1252.7 ]\n",
      " [1254.33]\n",
      " [1276.68]\n",
      " [1305.2 ]\n",
      " [1304.86]\n",
      " [1295.  ]\n",
      " [1293.32]\n",
      " [1294.58]\n",
      " [1327.31]\n",
      " [1362.54]\n",
      " [1357.51]\n",
      " [1377.95]\n",
      " [1402.05]\n",
      " [1417.68]\n",
      " [1437.82]\n",
      " [1451.65]\n",
      " [1390.  ]\n",
      " [1431.  ]\n",
      " [1396.62]\n",
      " [1442.84]\n",
      " [1416.78]\n",
      " [1350.47]\n",
      " [1338.99]\n",
      " [1386.23]]\n"
     ]
    }
   ],
   "source": [
    "# Set x_forecast equal to the last 30 rows of the original data set from Adj. Close column\n",
    "x_forecast = np.array(df.drop(['Prediction'],1))[-future_out:]\n",
    "print(x_forecast)"
   ]
  },
  {
   "cell_type": "code",
   "execution_count": 13,
   "metadata": {},
   "outputs": [
    {
     "name": "stdout",
     "output_type": "stream",
     "text": [
      "[1225.89082252 1246.40763433 1262.35698803 1268.01643612 1288.54374784\n",
      " 1307.16007708 1313.28152093 1314.99300523 1338.46028998 1368.4060153\n",
      " 1368.04901858 1357.69611354 1355.93212972 1357.25511758 1391.62130236\n",
      " 1428.61246306 1423.33101151 1444.79281465 1470.09758254 1486.50893201\n",
      " 1507.65573804 1522.17710484 1457.44519859 1500.49480372 1464.39613484\n",
      " 1512.92668969 1485.56394068 1415.93907931 1403.88518987 1453.4867349 ]\n",
      "[1339.42598759 1414.25863229  591.03672387  590.51570586  590.51570242\n",
      "  590.51570242  590.51570242  590.51570242  590.51570242  590.51570242\n",
      "  590.51570242  590.51570242  590.51570242  590.51570242  590.51570242\n",
      "  590.51570242  590.51570242  590.51570242  590.51570242  590.51570242\n",
      "  590.51570242  590.51570242  590.51570242  590.51570242  590.51570242\n",
      "  590.51570242  590.51570242  590.51570242  590.51570242  590.51570242]\n"
     ]
    }
   ],
   "source": [
    "# Print linear regression model predictions for the next 'n' days\n",
    "lr_prediction = lr.predict(x_forecast)\n",
    "print(lr_prediction)\n",
    "\n",
    "# Print support vector regressor model predictions for the next 'n' days\n",
    "svm_prediction = svr_rbf.predict(x_forecast)\n",
    "print(svm_prediction)"
   ]
  },
  {
   "cell_type": "markdown",
   "metadata": {},
   "source": [
    "**Now we will import AMZN data from 13th Feb-2018 to 27th Mar-2019 TO compare our predicted values**"
   ]
  },
  {
   "cell_type": "code",
   "execution_count": 14,
   "metadata": {},
   "outputs": [
    {
     "data": {
      "text/html": [
       "<div>\n",
       "<style scoped>\n",
       "    .dataframe tbody tr th:only-of-type {\n",
       "        vertical-align: middle;\n",
       "    }\n",
       "\n",
       "    .dataframe tbody tr th {\n",
       "        vertical-align: top;\n",
       "    }\n",
       "\n",
       "    .dataframe thead th {\n",
       "        text-align: right;\n",
       "    }\n",
       "</style>\n",
       "<table border=\"1\" class=\"dataframe\">\n",
       "  <thead>\n",
       "    <tr style=\"text-align: right;\">\n",
       "      <th></th>\n",
       "      <th>Open</th>\n",
       "      <th>High</th>\n",
       "      <th>Low</th>\n",
       "      <th>Close</th>\n",
       "      <th>Volume</th>\n",
       "      <th>Ex-Dividend</th>\n",
       "      <th>Split Ratio</th>\n",
       "      <th>Adj. Open</th>\n",
       "      <th>Adj. High</th>\n",
       "      <th>Adj. Low</th>\n",
       "      <th>Adj. Close</th>\n",
       "      <th>Adj. Volume</th>\n",
       "    </tr>\n",
       "    <tr>\n",
       "      <th>Date</th>\n",
       "      <th></th>\n",
       "      <th></th>\n",
       "      <th></th>\n",
       "      <th></th>\n",
       "      <th></th>\n",
       "      <th></th>\n",
       "      <th></th>\n",
       "      <th></th>\n",
       "      <th></th>\n",
       "      <th></th>\n",
       "      <th></th>\n",
       "      <th></th>\n",
       "    </tr>\n",
       "  </thead>\n",
       "  <tbody>\n",
       "    <tr>\n",
       "      <th>2018-03-21</th>\n",
       "      <td>1586.45</td>\n",
       "      <td>1590.00</td>\n",
       "      <td>1563.17</td>\n",
       "      <td>1581.86</td>\n",
       "      <td>4667291.0</td>\n",
       "      <td>0.0</td>\n",
       "      <td>1.0</td>\n",
       "      <td>1586.45</td>\n",
       "      <td>1590.00</td>\n",
       "      <td>1563.17</td>\n",
       "      <td>1581.86</td>\n",
       "      <td>4667291.0</td>\n",
       "    </tr>\n",
       "    <tr>\n",
       "      <th>2018-03-22</th>\n",
       "      <td>1565.47</td>\n",
       "      <td>1573.85</td>\n",
       "      <td>1542.40</td>\n",
       "      <td>1544.10</td>\n",
       "      <td>6177737.0</td>\n",
       "      <td>0.0</td>\n",
       "      <td>1.0</td>\n",
       "      <td>1565.47</td>\n",
       "      <td>1573.85</td>\n",
       "      <td>1542.40</td>\n",
       "      <td>1544.10</td>\n",
       "      <td>6177737.0</td>\n",
       "    </tr>\n",
       "    <tr>\n",
       "      <th>2018-03-23</th>\n",
       "      <td>1539.01</td>\n",
       "      <td>1549.02</td>\n",
       "      <td>1495.36</td>\n",
       "      <td>1495.56</td>\n",
       "      <td>7843966.0</td>\n",
       "      <td>0.0</td>\n",
       "      <td>1.0</td>\n",
       "      <td>1539.01</td>\n",
       "      <td>1549.02</td>\n",
       "      <td>1495.36</td>\n",
       "      <td>1495.56</td>\n",
       "      <td>7843966.0</td>\n",
       "    </tr>\n",
       "    <tr>\n",
       "      <th>2018-03-26</th>\n",
       "      <td>1530.00</td>\n",
       "      <td>1556.99</td>\n",
       "      <td>1499.25</td>\n",
       "      <td>1555.86</td>\n",
       "      <td>5547618.0</td>\n",
       "      <td>0.0</td>\n",
       "      <td>1.0</td>\n",
       "      <td>1530.00</td>\n",
       "      <td>1556.99</td>\n",
       "      <td>1499.25</td>\n",
       "      <td>1555.86</td>\n",
       "      <td>5547618.0</td>\n",
       "    </tr>\n",
       "    <tr>\n",
       "      <th>2018-03-27</th>\n",
       "      <td>1572.40</td>\n",
       "      <td>1575.96</td>\n",
       "      <td>1482.32</td>\n",
       "      <td>1497.05</td>\n",
       "      <td>6793279.0</td>\n",
       "      <td>0.0</td>\n",
       "      <td>1.0</td>\n",
       "      <td>1572.40</td>\n",
       "      <td>1575.96</td>\n",
       "      <td>1482.32</td>\n",
       "      <td>1497.05</td>\n",
       "      <td>6793279.0</td>\n",
       "    </tr>\n",
       "  </tbody>\n",
       "</table>\n",
       "</div>"
      ],
      "text/plain": [
       "               Open     High      Low    Close     Volume  Ex-Dividend  \\\n",
       "Date                                                                     \n",
       "2018-03-21  1586.45  1590.00  1563.17  1581.86  4667291.0          0.0   \n",
       "2018-03-22  1565.47  1573.85  1542.40  1544.10  6177737.0          0.0   \n",
       "2018-03-23  1539.01  1549.02  1495.36  1495.56  7843966.0          0.0   \n",
       "2018-03-26  1530.00  1556.99  1499.25  1555.86  5547618.0          0.0   \n",
       "2018-03-27  1572.40  1575.96  1482.32  1497.05  6793279.0          0.0   \n",
       "\n",
       "            Split Ratio  Adj. Open  Adj. High  Adj. Low  Adj. Close  \\\n",
       "Date                                                                  \n",
       "2018-03-21          1.0    1586.45    1590.00   1563.17     1581.86   \n",
       "2018-03-22          1.0    1565.47    1573.85   1542.40     1544.10   \n",
       "2018-03-23          1.0    1539.01    1549.02   1495.36     1495.56   \n",
       "2018-03-26          1.0    1530.00    1556.99   1499.25     1555.86   \n",
       "2018-03-27          1.0    1572.40    1575.96   1482.32     1497.05   \n",
       "\n",
       "            Adj. Volume  \n",
       "Date                     \n",
       "2018-03-21    4667291.0  \n",
       "2018-03-22    6177737.0  \n",
       "2018-03-23    7843966.0  \n",
       "2018-03-26    5547618.0  \n",
       "2018-03-27    6793279.0  "
      ]
     },
     "execution_count": 14,
     "metadata": {},
     "output_type": "execute_result"
    }
   ],
   "source": [
    "new_df = quandl.get(\"WIKI/AMZN\",start_date='2018-02-13',end_date='2018-03-27')\n",
    "\n",
    "new_df.tail()"
   ]
  },
  {
   "cell_type": "code",
   "execution_count": 15,
   "metadata": {},
   "outputs": [
    {
     "data": {
      "text/plain": [
       "30"
      ]
     },
     "execution_count": 15,
     "metadata": {},
     "output_type": "execute_result"
    }
   ],
   "source": [
    "len(new_df)"
   ]
  },
  {
   "cell_type": "code",
   "execution_count": 16,
   "metadata": {},
   "outputs": [],
   "source": [
    "new_df.to_excel('amzn.xlsx')"
   ]
  },
  {
   "cell_type": "code",
   "execution_count": 17,
   "metadata": {},
   "outputs": [],
   "source": [
    "import pandas as pd"
   ]
  },
  {
   "cell_type": "code",
   "execution_count": null,
   "metadata": {},
   "outputs": [],
   "source": [
    "#Sve the file as excel"
   ]
  },
  {
   "cell_type": "code",
   "execution_count": 18,
   "metadata": {},
   "outputs": [],
   "source": [
    "amzn_actual = pd.read_excel('amzn.xlsx')"
   ]
  },
  {
   "cell_type": "code",
   "execution_count": 19,
   "metadata": {},
   "outputs": [],
   "source": [
    "amzn_actual = amzn_actual[['Adj. Close']]"
   ]
  },
  {
   "cell_type": "code",
   "execution_count": 20,
   "metadata": {},
   "outputs": [
    {
     "data": {
      "text/html": [
       "<div>\n",
       "<style scoped>\n",
       "    .dataframe tbody tr th:only-of-type {\n",
       "        vertical-align: middle;\n",
       "    }\n",
       "\n",
       "    .dataframe tbody tr th {\n",
       "        vertical-align: top;\n",
       "    }\n",
       "\n",
       "    .dataframe thead th {\n",
       "        text-align: right;\n",
       "    }\n",
       "</style>\n",
       "<table border=\"1\" class=\"dataframe\">\n",
       "  <thead>\n",
       "    <tr style=\"text-align: right;\">\n",
       "      <th></th>\n",
       "      <th>Adj. Close</th>\n",
       "    </tr>\n",
       "  </thead>\n",
       "  <tbody>\n",
       "    <tr>\n",
       "      <th>0</th>\n",
       "      <td>1414.51</td>\n",
       "    </tr>\n",
       "    <tr>\n",
       "      <th>1</th>\n",
       "      <td>1451.05</td>\n",
       "    </tr>\n",
       "    <tr>\n",
       "      <th>2</th>\n",
       "      <td>1461.76</td>\n",
       "    </tr>\n",
       "    <tr>\n",
       "      <th>3</th>\n",
       "      <td>1448.69</td>\n",
       "    </tr>\n",
       "    <tr>\n",
       "      <th>4</th>\n",
       "      <td>1468.35</td>\n",
       "    </tr>\n",
       "    <tr>\n",
       "      <th>5</th>\n",
       "      <td>1482.92</td>\n",
       "    </tr>\n",
       "    <tr>\n",
       "      <th>6</th>\n",
       "      <td>1484.76</td>\n",
       "    </tr>\n",
       "    <tr>\n",
       "      <th>7</th>\n",
       "      <td>1500.00</td>\n",
       "    </tr>\n",
       "    <tr>\n",
       "      <th>8</th>\n",
       "      <td>1521.95</td>\n",
       "    </tr>\n",
       "    <tr>\n",
       "      <th>9</th>\n",
       "      <td>1511.98</td>\n",
       "    </tr>\n",
       "    <tr>\n",
       "      <th>10</th>\n",
       "      <td>1512.45</td>\n",
       "    </tr>\n",
       "    <tr>\n",
       "      <th>11</th>\n",
       "      <td>1493.45</td>\n",
       "    </tr>\n",
       "    <tr>\n",
       "      <th>12</th>\n",
       "      <td>1500.25</td>\n",
       "    </tr>\n",
       "    <tr>\n",
       "      <th>13</th>\n",
       "      <td>1523.61</td>\n",
       "    </tr>\n",
       "    <tr>\n",
       "      <th>14</th>\n",
       "      <td>1537.64</td>\n",
       "    </tr>\n",
       "    <tr>\n",
       "      <th>15</th>\n",
       "      <td>1545.00</td>\n",
       "    </tr>\n",
       "    <tr>\n",
       "      <th>16</th>\n",
       "      <td>1551.86</td>\n",
       "    </tr>\n",
       "    <tr>\n",
       "      <th>17</th>\n",
       "      <td>1578.89</td>\n",
       "    </tr>\n",
       "    <tr>\n",
       "      <th>18</th>\n",
       "      <td>1598.39</td>\n",
       "    </tr>\n",
       "    <tr>\n",
       "      <th>19</th>\n",
       "      <td>1588.18</td>\n",
       "    </tr>\n",
       "    <tr>\n",
       "      <th>20</th>\n",
       "      <td>1591.00</td>\n",
       "    </tr>\n",
       "    <tr>\n",
       "      <th>21</th>\n",
       "      <td>1582.32</td>\n",
       "    </tr>\n",
       "    <tr>\n",
       "      <th>22</th>\n",
       "      <td>1571.68</td>\n",
       "    </tr>\n",
       "    <tr>\n",
       "      <th>23</th>\n",
       "      <td>1544.93</td>\n",
       "    </tr>\n",
       "    <tr>\n",
       "      <th>24</th>\n",
       "      <td>1586.51</td>\n",
       "    </tr>\n",
       "    <tr>\n",
       "      <th>25</th>\n",
       "      <td>1581.86</td>\n",
       "    </tr>\n",
       "    <tr>\n",
       "      <th>26</th>\n",
       "      <td>1544.10</td>\n",
       "    </tr>\n",
       "    <tr>\n",
       "      <th>27</th>\n",
       "      <td>1495.56</td>\n",
       "    </tr>\n",
       "    <tr>\n",
       "      <th>28</th>\n",
       "      <td>1555.86</td>\n",
       "    </tr>\n",
       "    <tr>\n",
       "      <th>29</th>\n",
       "      <td>1497.05</td>\n",
       "    </tr>\n",
       "  </tbody>\n",
       "</table>\n",
       "</div>"
      ],
      "text/plain": [
       "    Adj. Close\n",
       "0      1414.51\n",
       "1      1451.05\n",
       "2      1461.76\n",
       "3      1448.69\n",
       "4      1468.35\n",
       "5      1482.92\n",
       "6      1484.76\n",
       "7      1500.00\n",
       "8      1521.95\n",
       "9      1511.98\n",
       "10     1512.45\n",
       "11     1493.45\n",
       "12     1500.25\n",
       "13     1523.61\n",
       "14     1537.64\n",
       "15     1545.00\n",
       "16     1551.86\n",
       "17     1578.89\n",
       "18     1598.39\n",
       "19     1588.18\n",
       "20     1591.00\n",
       "21     1582.32\n",
       "22     1571.68\n",
       "23     1544.93\n",
       "24     1586.51\n",
       "25     1581.86\n",
       "26     1544.10\n",
       "27     1495.56\n",
       "28     1555.86\n",
       "29     1497.05"
      ]
     },
     "execution_count": 20,
     "metadata": {},
     "output_type": "execute_result"
    }
   ],
   "source": [
    "amzn_actual"
   ]
  },
  {
   "cell_type": "code",
   "execution_count": 21,
   "metadata": {},
   "outputs": [],
   "source": [
    "import matplotlib.pyplot as plt"
   ]
  },
  {
   "cell_type": "code",
   "execution_count": 25,
   "metadata": {},
   "outputs": [
    {
     "data": {
      "image/png": "[encoded data removed]",
      "text/plain": [
       "<Figure size 720x432 with 1 Axes>"
      ]
     },
     "metadata": {
      "needs_background": "light"
     },
     "output_type": "display_data"
    }
   ],
   "source": [
    "plt.figure(figsize=(10,6))\n",
    "plt.plot(lr_prediction, color='blue', label='Linear Regression Amazon')\n",
    "plt.plot(svm_prediction, color='red', label='SVM Amazon Stock Price')\n",
    "plt.plot(amzn_actual , color='green', label='March Amazon Stock Price')\n",
    "plt.title('Amazon Stock Price Prediction')\n",
    "plt.legend()\n",
    "plt.show()"
   ]
  },
  {
   "cell_type": "code",
   "execution_count": null,
   "metadata": {},
   "outputs": [],
   "source": []
  },
  {
   "cell_type": "markdown",
   "metadata": {},
   "source": [
    "### Findings"
   ]
  },
  {
   "cell_type": "markdown",
   "metadata": {},
   "source": [
    "**Here we can notice that even though linear regression and svm had almost the same confidence score , linear regression proved to be the better model between the two.**"
   ]
  }
 ],
 "metadata": {
  "kernelspec": {
   "display_name": "Python 3",
   "language": "python",
   "name": "python3"
  },
  "language_info": {
   "codemirror_mode": {
    "name": "ipython",
    "version": 3
   },
   "file_extension": ".py",
   "mimetype": "text/x-python",
   "name": "python",
   "nbconvert_exporter": "python",
   "pygments_lexer": "ipython3",
   "version": "3.7.3"
  }
 },
 "nbformat": 4,
 "nbformat_minor": 2
}
